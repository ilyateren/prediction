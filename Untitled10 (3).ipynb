{
  "cells": [
    {
      "cell_type": "code",
      "execution_count": 215,
      "metadata": {
        "id": "J-qW0B3Ml4IN"
      },
      "outputs": [],
      "source": [
        "import pandas as pd\n",
        "# считываем данные из data.csv\n",
        "data = pd.read_csv('/content/data.csv', sep = ';')\n",
        "# заполняем пропуски медианным значением\n",
        "data.fillna(data.median(), inplace=True)\n",
        "# разделяем данные на признаки, на которых будем обучать модель и на целевую переменную\n",
        "X = data.drop(['ID', 'target'], axis=1)\n",
        "y = data['target']"
      ]
    },
    {
      "cell_type": "code",
      "source": [
        "from sklearn.preprocessing import StandardScaler\n",
        "# масштабируем признаки для корректного обучения\n",
        "scaler = StandardScaler()\n",
        "X_scaled = scaler.fit_transform(X)"
      ],
      "metadata": {
        "id": "qGLXesCbLzYz"
      },
      "execution_count": 216,
      "outputs": []
    },
    {
      "cell_type": "code",
      "execution_count": 217,
      "metadata": {
        "id": "xFw1VbZq3wp8"
      },
      "outputs": [],
      "source": [
        "from sklearn.model_selection import train_test_split\n",
        "# разделим наши данные на обучающую и тестовую выборки, чтобы не произошло переобучения\n",
        "X_train, X_test, y_train, y_test = train_test_split(X_scaled, y, test_size=0.25, random_state=10)"
      ]
    },
    {
      "cell_type": "code",
      "execution_count": 226,
      "metadata": {
        "colab": {
          "base_uri": "https://localhost:8080/"
        },
        "id": "1ISsmKnCmLAR",
        "outputId": "268b7cea-475a-4d82-a550-4253080ec47a"
      },
      "outputs": [
        {
          "output_type": "stream",
          "name": "stderr",
          "text": [
            "<ipython-input-226-d06db80fd60e>:10: FutureWarning: The default of observed=False is deprecated and will be changed to True in a future version of pandas. Pass observed=False to retain current behavior or observed=True to adopt the future default and silence this warning.\n",
            "  group = data.groupby('probability').agg(\n"
          ]
        }
      ],
      "source": [
        "from sklearn.linear_model import LogisticRegression\n",
        "from sklearn.metrics import accuracy_score\n",
        "# обучение модели\n",
        "model = LogisticRegression(random_state=10)\n",
        "model.fit(X_train, y_train)\n",
        "# создаем отдельный столбец с вероятностями принадлежности каждого объекта к target = 1, для дальнейшего удобного группирования\n",
        "pred = model.predict_proba(X_scaled)[:, 1]\n",
        "data['probability'] = pd.cut(pred, bins=[0, 0.1, 0.2, 0.3, 0.4, 0.5, 0.6, 0.7, 0.8, 0.9, 1.0], precision=1)\n",
        "# группировка выборки по значениям вероятности\n",
        "group = data.groupby('probability').agg(\n",
        "    total_count=('target', 'count'),\n",
        "    target1_count=('target', lambda x: (x == 1).sum())\n",
        ")"
      ]
    },
    {
      "cell_type": "code",
      "source": [
        "from sklearn.metrics import roc_auc_score, f1_score\n",
        "\n",
        "y_pred_proba = model.predict_proba(X_test)[:, 1]\n",
        "\n",
        "roc_auc = roc_auc_score(y_test, y_pred_proba)\n",
        "f1 = f1_score(y_test, (y_pred_proba > 0.5).astype(int))\n",
        "gini = 2*roc_auc_score(y_test, y_pred_proba)-1\n",
        "accuracy = accuracy_score(y_test, model.predict(X_test))"
      ],
      "metadata": {
        "id": "Y68rZ8xCI0o7"
      },
      "execution_count": 219,
      "outputs": []
    },
    {
      "cell_type": "code",
      "source": [
        "# считываем данные из verify.csv\n",
        "verify = pd.read_csv('/content/verify.csv', sep = ';')\n",
        "# заполняем пропуски медианным значением\n",
        "verify.fillna(verify.median(), inplace=True)\n",
        "# подготавливаем данные для уже обученной модели\n",
        "X_verify = verify.drop(['ID'], axis=1)\n",
        "X_verify_scaled = scaler.transform(X_verify)\n",
        "# оперделяем вероятность принадлежности каждого объекта verify.csv к target = 1\n",
        "verify['score'] = model.predict_proba(X_verify_scaled)[:, 1]\n",
        "# записываем предсказания в файл\n",
        "verify[['ID', 'score']].to_csv('/content/predictions.csv', sep=';', index=False)"
      ],
      "metadata": {
        "id": "VC7igc-KWyuf"
      },
      "execution_count": 220,
      "outputs": []
    },
    {
      "cell_type": "code",
      "source": [
        "print(f'ROC-AUC: {roc_auc}')\n",
        "print(f'F1-Score: {f1}')\n",
        "print(f'GINI: {gini}')\n",
        "print(f'ACCURACY: {accuracy}')\n",
        "print(group)"
      ],
      "metadata": {
        "colab": {
          "base_uri": "https://localhost:8080/"
        },
        "id": "HLc2alocu9KP",
        "outputId": "058de2c4-c191-4524-d532-45ba60c75547"
      },
      "execution_count": 227,
      "outputs": [
        {
          "output_type": "stream",
          "name": "stdout",
          "text": [
            "ROC-AUC: 0.7727633930194687\n",
            "F1-Score: 0.274864815602406\n",
            "GINI: 0.5455267860389375\n",
            "ACCURACY: 0.8133844109139239\n",
            "             total_count  target1_count\n",
            "probability                            \n",
            "(0.0, 0.1]         87854           4453\n",
            "(0.1, 0.2]         72248          10539\n",
            "(0.2, 0.3]         42807          11390\n",
            "(0.3, 0.4]         24282           8990\n",
            "(0.4, 0.5]         13076           6025\n",
            "(0.5, 0.6]          6915           3665\n",
            "(0.6, 0.7]          4325           2519\n",
            "(0.7, 0.8]          2616           1654\n",
            "(0.8, 0.9]          1160            835\n",
            "(0.9, 1.0]           537            440\n"
          ]
        }
      ]
    }
  ],
  "metadata": {
    "colab": {
      "provenance": []
    },
    "kernelspec": {
      "display_name": "Python 3",
      "name": "python3"
    },
    "language_info": {
      "name": "python"
    }
  },
  "nbformat": 4,
  "nbformat_minor": 0
}